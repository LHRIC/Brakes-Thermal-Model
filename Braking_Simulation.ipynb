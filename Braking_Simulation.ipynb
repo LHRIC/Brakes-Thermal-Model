{
 "cells": [
  {
   "cell_type": "markdown",
   "id": "1fc31735",
   "metadata": {},
   "source": [
    "# Simulating Thermal Behavior of Brake Discs During Braking Maneuvers"
   ]
  },
  {
   "cell_type": "markdown",
   "id": "240a242e",
   "metadata": {},
   "source": [
    "## Initial Setup and Parameters"
   ]
  },
  {
   "cell_type": "code",
   "execution_count": 39,
   "id": "1215887a",
   "metadata": {},
   "outputs": [],
   "source": [
    "# Import necessary libraries\n",
    "import numpy as np\n",
    "import matplotlib.pyplot as plt\n",
    "\n",
    "# Constants and Input Data\n",
    "m = 290  # Car mass in kg\n",
    "I = 0.3546  # Moment of inertia of the rotating parts on the wheel [kg/m^2]\n",
    "V_i = 70 / 3.6  # Initial vehicle speed [m/s]\n",
    "V_f = 45 / 3.6  # Final vehicle speed [m/s]\n",
    "V_mean = (V_f + V_i) / 2\n",
    "R_wheel = 0.235  # Wheel radius [m]\n",
    "omega_i = V_i / R_wheel  # Initial wheel angular speed [rad/s]\n",
    "omega_f = V_f / R_wheel  # Final wheel angular speed [rad/s]\n",
    "Decel_avg = 0.5 * 9.81  # Average deceleration [m/s^2]\n",
    "Brake_bias = 0.5  # Portion of the total braking load applied to the axle\n",
    "t_stop = (V_i - V_f) / Decel_avg  # Duration of the braking maneuver [s]\n",
    "d_stop = (V_i**2 - V_f**2) / (2 * Decel_avg)  # Distance covered during braking [m]\n",
    "t_cool = 5  # Cooling time between braking maneuvers [s]\n",
    "n_materials = 6  # Number of materials to compare\n",
    "n = 100  # Number of braking maneuvers to simulate\n",
    "Cx = 1.12  # Aerodynamic drag coefficient\n",
    "S_car = 1  # Front surface area of the car [m^2]\n"
   ]
  },
  {
   "cell_type": "markdown",
   "id": "3d634b73",
   "metadata": {},
   "source": [
    "## Disk Data"
   ]
  },
  {
   "cell_type": "code",
   "execution_count": 40,
   "id": "f5cebd4b",
   "metadata": {},
   "outputs": [],
   "source": [
    "# ----------------- FRONT DISC -----------------\n",
    "r_disc = 218 / 2 / 1000  # Disc outer radius [m]\n",
    "h_disc = 30 / 1000       # Disc height [m]\n",
    "t_disc = 3 / 1000        # Disc thickness [m]\n",
    "d_holes = 3 / 1000       # Holes diameter [m]\n",
    "N_holes = 200            # Number of holes\n",
    "\n",
    "# Calculate areas\n",
    "A_edge = 2 * np.pi * r_disc * t_disc  # Area of edge [m^2]\n",
    "A_fix = 306.53 / 1e6                 # Area of one of the fixing legs of the rotor [m^2]\n",
    "A_side = np.pi * (r_disc**2 - (r_disc - h_disc)**2) - N_holes * (np.pi * (d_holes / 2)**2) + A_fix * 6  # Side area [m^2]\n",
    "A_holes = N_holes * np.pi * d_holes * t_disc  # Area of the holes walls [m^2]\n",
    "V_disc = A_side * t_disc                      # Volume of the brake rotor [m^3]\n",
    "A_total = A_edge + 2 * A_side + A_holes       # Total surface area of the disc [m^2]\n",
    "\n",
    "# Area ratios\n",
    "A_ratio_side = A_side / A_total\n",
    "A_ratio_edge = A_edge / A_total\n",
    "\n",
    "# ----------------- REAR DISC (commented in MATLAB, provided for completeness) -----------------\n",
    "r_disc_rear = 190 / 2 / 1000  # Rear disc outer radius [m]\n",
    "h_disc_rear = 24 / 1000       # Rear disc height [m]\n",
    "t_disc_rear = 4 / 1000        # Rear disc thickness [m]\n",
    "d_holes_rear = 8 / 1000       # Rear holes diameter [m]\n",
    "N_holes_rear = 36             # Number of holes\n",
    "\n",
    "# Calculate rear disc areas\n",
    "A_edge_rear = 2 * np.pi * r_disc_rear * t_disc_rear  # Rear area of edge [m^2]\n",
    "A_fix_rear = 347.2 / 1e6                            # Rear area of one of the fixing legs [m^2]\n",
    "A_side_rear = np.pi * (r_disc_rear**2 - (r_disc_rear - h_disc_rear)**2) - \\\n",
    "              N_holes_rear * (np.pi * (d_holes_rear / 2)**2) + A_fix_rear * 6  # Rear side area [m^2]\n",
    "A_holes_rear = N_holes_rear * np.pi * d_holes_rear * t_disc_rear  # Rear area of holes walls [m^2]\n",
    "V_disc_rear = A_side_rear * t_disc_rear                             # Rear volume of the brake rotor [m^3]\n",
    "\n",
    "# ----------------- PAD PROPERTIES -----------------\n",
    "h_pad = 30 / 1000    # Pad height [m]\n",
    "w_pad = 0.04975      # Pad width [m]\n",
    "S_p = h_pad * w_pad  # Pad friction area [m^2]\n",
    "t_pad = 4 / 1000     # Pad compound thickness [m]\n",
    "t_plate = 3.5 / 1000 # Thickness of the backing plate [m]\n",
    "S_d = np.pi * (r_disc**2 - (r_disc - h_pad)**2) - N_holes * (np.pi * (d_holes / 2)**2)  # Disc friction area [m^2]\n"
   ]
  },
  {
   "cell_type": "markdown",
   "id": "411ca31a",
   "metadata": {},
   "source": [
    "## Mat Properties"
   ]
  },
  {
   "cell_type": "code",
   "execution_count": 41,
   "id": "10b2d392",
   "metadata": {},
   "outputs": [
    {
     "data": {
      "text/plain": [
       "(7740, 24.9, 460, 12, 900, 2500)"
      ]
     },
     "execution_count": 41,
     "metadata": {},
     "output_type": "execute_result"
    }
   ],
   "source": [
    "def mat_properties(T_disc, T_air, mat):\n",
    "    \"\"\"\n",
    "    Calculate material properties based on disc temperature and material type.\n",
    "    \n",
    "    Parameters:\n",
    "    T_disc : float\n",
    "        Disc temperature [K]\n",
    "    T_air : float\n",
    "        Air temperature [K]\n",
    "    mat : int\n",
    "        Material type (1 to 6)\n",
    "        \n",
    "    Returns:\n",
    "    rho_metal, k_metal, Cp_metal, k_pad, Cp_pad, rho_pad : tuple\n",
    "        Material properties: density, thermal conductivity, and specific heat capacity for the disc and pad\n",
    "    \"\"\"\n",
    "    # Convert T_disc from Kelvin to Celsius\n",
    "    T = T_disc - 273.15\n",
    "    \n",
    "    # Initialize variables\n",
    "    rho_metal = k_metal = Cp_metal = None\n",
    "    \n",
    "    # Determine material properties\n",
    "    if mat == 1:  # AISI 410 Stainless Steel\n",
    "        rho_metal = 7740  # Density [kg/m^3]\n",
    "        if T < 100:\n",
    "            k_metal = 24.9  # Thermal Conductivity [W/mK]\n",
    "            Cp_metal = 460  # Specific Heat [J/kgK]\n",
    "        else:\n",
    "            k_metal = 0.0095 * T + 23.95\n",
    "            Cp_metal = 0.1 * T + 450\n",
    "\n",
    "    elif mat == 2:  # AISI 446 Stainless Steel\n",
    "        rho_metal = 7800  # Density [kg/m^3]\n",
    "        k_metal = (0.0000898 * T + 0.2006) * 100  # Thermal Conductivity [W/mK]\n",
    "        Cp_metal = (0.0000481 * T + 0.1114) * 4184  # Specific Heat [J/kgK]\n",
    "\n",
    "    elif mat == 3:  # MMC Aluminum Sinter Material\n",
    "        rho_metal = 2760  # Density [kg/m^3]\n",
    "        k_metal = 180  # Thermal Conductivity [W/mK]\n",
    "        Cp_metal = 950  # Specific Heat [J/kgK]\n",
    "\n",
    "    elif mat == 4:  # Titanium Alloy (Ti6Al4)\n",
    "        rho_metal = 4420  # Density [kg/m^3]\n",
    "        k_metal = 6.7  # Thermal Conductivity [W/mK]\n",
    "        Cp_metal = 526  # Specific Heat [J/kgK]\n",
    "\n",
    "    elif mat == 5:  # AISI 1060 Carbon Steel\n",
    "        rho_metal = 7850  # Density [kg/m^3]\n",
    "        k_metal = 49.8  # Thermal Conductivity [W/mK]\n",
    "        Cp_metal = 502  # Specific Heat [J/kgK]\n",
    "\n",
    "    elif mat == 6:  # ASTM 40 Gray Cast Iron\n",
    "        rho_metal = 7150  # Density [kg/m^3]\n",
    "        k_metal = 53.3  # Thermal Conductivity [W/mK]\n",
    "        Cp_metal = 490  # Specific Heat [J/kgK]\n",
    "\n",
    "    # Pad properties (assumed to be constant)\n",
    "    k_pad = 12  # Thermal Conductivity [W/mK]\n",
    "    Cp_pad = 900  # Specific Heat [J/kgK]\n",
    "    rho_pad = 2500  # Density [kg/m^3]\n",
    "    \n",
    "    # Plate properties\n",
    "    k_plate = 15  # Thermal Conductivity of backing plate [W/mK]\n",
    "\n",
    "    return rho_metal, k_metal, Cp_metal, k_pad, Cp_pad, rho_pad\n",
    "\n",
    "# Example usage\n",
    "T_disc = 350  # Example disc temperature [K]\n",
    "T_air = 295  # Example air temperature [K]\n",
    "mat_example = 1  # AISI 410 Stainless Steel\n",
    "\n",
    "rho_metal, k_metal, Cp_metal, k_pad, Cp_pad, rho_pad = mat_properties(T_disc, T_air, mat_example)\n"
   ]
  },
  {
   "cell_type": "markdown",
   "id": "9befeade",
   "metadata": {},
   "source": [
    "## Simulation Setup"
   ]
  },
  {
   "cell_type": "code",
   "execution_count": 43,
   "id": "78eba5a1",
   "metadata": {},
   "outputs": [],
   "source": [
    "# Create arrays for processing\n",
    "dt = 0.1  # Sampling time for simulation [s]\n",
    "\n",
    "# Speed while braking\n",
    "V_inst_brake = np.linspace(V_i, V_f, round(t_stop / dt))\n",
    "\n",
    "# Speed while driving\n",
    "V_inst_acc = np.concatenate([\n",
    "    np.linspace(V_f, V_i, round(t_stop / dt)),\n",
    "    np.repeat(V_i, round((t_cool - t_stop) / dt))\n",
    "])\n",
    "\n",
    "# Speed sequence\n",
    "V_inst = np.tile(np.concatenate([V_inst_acc, V_inst_brake]), n)\n",
    "\n",
    "# Index for braking phase\n",
    "index_braking = np.tile(\n",
    "    np.concatenate([\n",
    "        np.zeros(len(V_inst_acc)),\n",
    "        np.linspace(1, len(V_inst_brake), len(V_inst_brake))\n",
    "    ]), n\n",
    ")\n",
    "\n",
    "# Pre-allocate temperature array\n",
    "T_disc_start = 60 + 273.15  # Initial disc temperature [K]\n",
    "T_disc = np.full((len(V_inst), n_materials), T_disc_start)"
   ]
  },
  {
   "cell_type": "markdown",
   "id": "92b69a74",
   "metadata": {},
   "source": [
    "## Kinetic Energy Calculation and Power Dissipation"
   ]
  },
  {
   "cell_type": "code",
   "execution_count": 44,
   "id": "4645dfbb",
   "metadata": {},
   "outputs": [],
   "source": [
    "# Calculate kinetic linear and rotational energies\n",
    "Eb = 0.5 * Brake_bias * (\n",
    "    (m / 2) * (V_inst[:-1]**2 - V_inst[1:]**2) +\n",
    "    (I / 2) * ((V_inst[:-1] / R_wheel)**2 - (V_inst[1:] / R_wheel)**2) -\n",
    "    0.5 * 1.16 * Cx * S_car * ((V_inst[:-1] + V_inst[1:]) / 2)**2 * d_stop\n",
    ")\n",
    "\n",
    "# Average power dissipated during braking maneuver [W]\n",
    "P_braking = Eb / t_stop\n",
    "P_braking[P_braking < 0] = 0"
   ]
  },
  {
   "cell_type": "markdown",
   "id": "86e107ae",
   "metadata": {},
   "source": [
    "## Temperature Rise Simulation"
   ]
  },
  {
   "cell_type": "code",
   "execution_count": 45,
   "id": "ac1c0a76",
   "metadata": {},
   "outputs": [],
   "source": [
    "# Define a placeholder function for temperature rise\n",
    "def temp_rise(T_prev, V_inst, V_prev, P_braking, dt, mat, index_braking):\n",
    "    # Simplified temperature rise calculation\n",
    "    heat_capacity = 500  # J/kg-K, placeholder for specific material\n",
    "    temp_change = (P_braking * dt) / (m * heat_capacity)\n",
    "    return T_prev + temp_change\n",
    "\n",
    "# Iterate through braking maneuvers\n",
    "for mat in range(n_materials):\n",
    "    for i_temp in range(1, len(T_disc) - 1):\n",
    "        T_disc[i_temp, mat] = temp_rise(\n",
    "            T_disc[i_temp - 1, mat], V_inst[i_temp], V_inst[i_temp - 1],\n",
    "            P_braking[i_temp - 1], dt, mat, index_braking[i_temp - 1]\n",
    "        )"
   ]
  },
  {
   "cell_type": "markdown",
   "id": "2861e954",
   "metadata": {},
   "source": [
    "## Average Power Dissipation"
   ]
  },
  {
   "cell_type": "code",
   "execution_count": 46,
   "id": "5b790ff9",
   "metadata": {},
   "outputs": [],
   "source": [
    "# Kinetic energy calculation\n",
    "Ef = 0.5 * Brake_bias * (\n",
    "    (m / 2) * (V_i**2 - V_f**2) - 0.5 * 1.16 * Cx * S_car * ((V_i + V_f) / 2)**2 * d_stop\n",
    ") + (I / 2) * (omega_i**2 - omega_f**2)\n",
    "\n",
    "# Average power dissipated during braking [W]\n",
    "P_avgF = Ef / t_stop"
   ]
  },
  {
   "cell_type": "code",
   "execution_count": 47,
   "id": "091c8741",
   "metadata": {},
   "outputs": [
    {
     "data": {
      "text/plain": [
       "(dict_keys(['Temp', 'Density', 'Spec_Heat', 'Conductivity', 'Dyn_Visc', 'Kin_Visc', 'Prandtl']),\n",
       " array([-150., -100.,  -50.,  -40.,  -30.]),\n",
       " array([2.866, 2.038, 1.582, 1.514, 1.451]))"
      ]
     },
     "execution_count": 47,
     "metadata": {},
     "output_type": "execute_result"
    }
   ],
   "source": [
    "# Define the air properties based on the provided data\n",
    "air_props_data = np.array([\n",
    "    [-150, 2.866, 983, 0.01171, 4.158e-06, 8.636e-06, 3.013e-06, 0.7246],\n",
    "    [-100, 2.038, 966, 0.01582, 8.036e-06, 1.189e-06, 5.837e-06, 0.7263],\n",
    "    [-50, 1.582, 999, 0.01979, 1.252e-05, 1.474e-05, 9.319e-06, 0.7440],\n",
    "    [-40, 1.514, 1002, 0.02057, 1.356e-05, 1.527e-05, 1.008e-05, 0.7436],\n",
    "    [-30, 1.451, 1004, 0.02134, 1.465e-05, 1.579e-05, 1.087e-05, 0.7425],\n",
    "    [-20, 1.394, 1005, 0.02211, 1.578e-05, 1.630e-05, 1.169e-05, 0.7408],\n",
    "    [-10, 1.341, 1006, 0.02288, 1.696e-05, 1.680e-05, 1.252e-05, 0.7387],\n",
    "    [0, 1.292, 1006, 0.02364, 1.818e-05, 1.729e-05, 1.338e-05, 0.7362],\n",
    "    [10, 1.246, 1006, 0.02439, 1.944e-05, 1.778e-05, 1.426e-05, 0.7336],\n",
    "    [20, 1.204, 1007, 0.02514, 2.074e-05, 1.825e-05, 1.516e-05, 0.7309],\n",
    "    [30, 1.164, 1007, 0.02588, 2.208e-05, 1.872e-05, 1.608e-05, 0.7282],\n",
    "    [40, 1.127, 1007, 0.02662, 2.346e-05, 1.918e-05, 1.702e-05, 0.7255],\n",
    "    [50, 1.092, 1007, 0.02735, 2.487e-05, 1.963e-05, 1.798e-05, 0.7228],\n",
    "    [60, 1.059, 1007, 0.02808, 2.632e-05, 2.008e-05, 1.896e-05, 0.7202],\n",
    "    [70, 1.028, 1007, 0.02881, 2.780e-05, 2.052e-05, 1.995e-05, 0.7177],\n",
    "    [80, 0.9994, 1008, 0.02953, 2.931e-05, 2.096e-05, 2.097e-05, 0.7154],\n",
    "    [90, 0.9718, 1008, 0.03024, 3.086e-05, 2.139e-05, 2.201e-05, 0.7132],\n",
    "    [100, 0.9458, 1009, 0.03095, 3.243e-05, 2.181e-05, 2.306e-05, 0.7111],\n",
    "    [120, 0.8977, 1011, 0.03235, 3.565e-05, 2.264e-05, 2.522e-05, 0.7073],\n",
    "    [140, 0.8542, 1013, 0.03374, 3.898e-05, 2.345e-05, 2.745e-05, 0.7041],\n",
    "    [160, 0.8148, 1016, 0.03511, 4.241e-05, 2.420e-05, 2.975e-05, 0.7014],\n",
    "    [180, 0.7788, 1019, 0.03646, 4.593e-05, 2.504e-05, 3.212e-05, 0.6992],\n",
    "    [200, 0.7459, 1023, 0.03779, 4.954e-05, 2.577e-05, 3.455e-05, 0.6974],\n",
    "    [250, 0.6746, 1033, 0.04104, 5.890e-05, 2.760e-05, 4.091e-05, 0.6946],\n",
    "    [300, 0.6158, 1044, 0.04418, 6.871e-05, 2.934e-05, 4.765e-05, 0.6935],\n",
    "    [350, 0.5664, 1056, 0.04721, 7.892e-05, 3.101e-05, 5.475e-05, 0.6937],\n",
    "    [400, 0.5243, 1069, 0.05015, 8.951e-05, 3.261e-05, 6.219e-05, 0.6948],\n",
    "    [450, 0.488, 1081, 0.05298, 1.004e-04, 3.415e-05, 6.997e-05, 0.6965],\n",
    "    [500, 0.4565, 1093, 0.05572, 1.117e-04, 3.563e-05, 7.806e-05, 0.6986],\n",
    "    [600, 0.4042, 1115, 0.06093, 1.352e-04, 3.846e-05, 9.515e-05, 0.7037],\n",
    "    [700, 0.3627, 1135, 0.06581, 1.598e-04, 4.111e-05, 1.133e-04, 0.7092],\n",
    "    [800, 0.3289, 1153, 0.07037, 1.855e-04, 4.362e-05, 1.326e-04, 0.7149],\n",
    "    [900, 0.3008, 1169, 0.07465, 2.122e-04, 4.600e-05, 1.529e-04, 0.7206],\n",
    "    [1000, 0.2772, 1184, 0.07868, 2.398e-04, 4.826e-05, 1.741e-04, 0.7260],\n",
    "    [1500, 0.199, 1234, 0.09599, 3.908e-04, 5.817e-05, 2.922e-04, 0.7478],\n",
    "    [2000, 0.1553, 1264, 0.11113, 5.664e-04, 6.630e-05, 4.270e-04, 0.7539]\n",
    "])\n",
    "\n",
    "# Define the columns for air properties\n",
    "Air_props = {\n",
    "    'Temp': air_props_data[:, 0],\n",
    "    'Density': air_props_data[:, 1],\n",
    "    'Spec_Heat': air_props_data[:, 2],\n",
    "    'Conductivity': air_props_data[:, 3],\n",
    "    'Dyn_Visc': air_props_data[:, 4],\n",
    "    'Kin_Visc': air_props_data[:, 5],\n",
    "    'Prandtl': air_props_data[:, 6]\n",
    "}\n",
    "\n",
    "# Display the keys and a sample of the data to verify the conversion\n",
    "Air_props.keys(), Air_props['Temp'][:5], Air_props['Density'][:5]\n"
   ]
  },
  {
   "cell_type": "markdown",
   "id": "f69dad80",
   "metadata": {},
   "source": [
    "## Simulation of Temperature Variation"
   ]
  },
  {
   "cell_type": "code",
   "execution_count": 49,
   "id": "aeea6ab2",
   "metadata": {},
   "outputs": [],
   "source": [
    "# Pre-allocate variables\n",
    "T_disc = np.zeros(2 * n)\n",
    "T_film = np.zeros(2 * n)\n",
    "rho_air_f = np.zeros(2 * n)\n",
    "mu_air_f = np.zeros(2 * n)\n",
    "Cp_air_f = np.zeros(2 * n)\n",
    "k_air_f = np.zeros(2 * n)\n",
    "Re_f = np.zeros(2 * n)\n",
    "Pr_f = np.zeros(2 * n)\n",
    "h_conv = np.zeros(2 * n)\n",
    "T_disc_mat = np.zeros((n_materials, 2 * n))\n",
    "\n",
    "\n",
    "# Simulation loop for different materials\n",
    "for mat in range(n_materials):\n",
    "    for i in range(2 * n):\n",
    "        if i > 0 and i % 2 == 0:\n",
    "            # Cooling phase\n",
    "            Dt_cool = (-h_conv[i-1] * A_total * (T_disc[i-1] - 22 - 273.15) * t_cool) / (V_disc * 7850 * 500)  # Example cooling\n",
    "            T_disc[i] = T_disc[i - 1] - Dt_cool\n",
    "        else:  # Braking phase\n",
    "            if i == 0:\n",
    "                T_disc[i] = 60 + 273.15  # Initial temperature [K]\n",
    "            else:\n",
    "                # Film temperature and air properties interpolation\n",
    "                T_air = 22 + 273.15  # Air temperature [K]\n",
    "                T_film[i] = (T_air + T_disc[i]) / 2\n",
    "                T_film_C = T_film[i] - 273.15\n",
    "\n",
    "                rho_air_f[i] = np.interp(T_film_C, Air_props['Temp'], Air_props['Density'])\n",
    "                mu_air_f[i] = np.interp(T_film_C, Air_props['Temp'], Air_props['Dyn_Visc'])\n",
    "                Cp_air_f[i] = np.interp(T_film_C, Air_props['Temp'], Air_props['Spec_Heat'])\n",
    "                k_air_f[i] = np.interp(T_film_C, Air_props['Temp'], Air_props['Conductivity'])\n",
    "\n",
    "                # Reynolds and Prandtl numbers\n",
    "                Re_f[i] = (V_mean * 2 * r_disc * rho_air_f[i]) / mu_air_f[i]\n",
    "                Pr_f[i] = mu_air_f[i] * Cp_air_f[i] / k_air_f[i]\n",
    "\n",
    "                # Heat transfer coefficient\n",
    "                h_conv[i] = 0.04 * (k_air_f[i] / (2 * r_disc)) * Re_f[i]**0.8\n",
    "\n",
    "                # Temperature increase during braking\n",
    "                Dt_brake = P_avgF * t_stop / (V_disc * 7850 * 500)  # Example heating\n",
    "                T_disc[i] = T_disc[i - 1] + Dt_brake\n",
    "\n",
    "    T_disc_mat[mat, :] = T_disc  # Save the temperature for each material\n"
   ]
  },
  {
   "cell_type": "markdown",
   "id": "f0881c46",
   "metadata": {},
   "source": [
    "## Visualization of Results"
   ]
  },
  {
   "cell_type": "code",
   "execution_count": 50,
   "id": "157d0719",
   "metadata": {},
   "outputs": [
    {
     "data": {
      "image/png": "[encoded data removed]",
      "text/plain": [
       "<Figure size 1000x600 with 1 Axes>"
      ]
     },
     "metadata": {},
     "output_type": "display_data"
    }
   ],
   "source": [
    "time = np.linspace(0, (t_stop + t_cool) * n, 2 * n)\n",
    "plt.figure(figsize=(10, 6))\n",
    "for mat in range(n_materials):\n",
    "    plt.plot(time, T_disc_mat[mat, :] - 273.15, label=f'Material {mat+1}')\n",
    "plt.xlabel('Time [s]')\n",
    "plt.ylabel('Disc Temperature [°C]')\n",
    "plt.title('Front Disc Thermal Response during Continuous Braking')\n",
    "plt.legend(loc='upper right')\n",
    "plt.grid(True)\n",
    "plt.show()"
   ]
  }
 ],
 "metadata": {
  "kernelspec": {
   "display_name": "datavisualization",
   "language": "python",
   "name": "python3"
  },
  "language_info": {
   "codemirror_mode": {
    "name": "ipython",
    "version": 3
   },
   "file_extension": ".py",
   "mimetype": "text/x-python",
   "name": "python",
   "nbconvert_exporter": "python",
   "pygments_lexer": "ipython3",
   "version": "3.11.7"
  }
 },
 "nbformat": 4,
 "nbformat_minor": 5
}
